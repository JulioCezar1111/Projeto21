{
  "nbformat": 4,
  "nbformat_minor": 0,
  "metadata": {
    "colab": {
      "name": "Regressao_softmax_e_regressao_logistica_multinomial.ipynb",
      "provenance": [],
      "collapsed_sections": [],
      "authorship_tag": "ABX9TyMfrF0HBSEvMb/Lb2VWkBMJ",
      "include_colab_link": true
    },
    "kernelspec": {
      "name": "python3",
      "display_name": "Python 3"
    },
    "language_info": {
      "name": "python"
    }
  },
  "cells": [
    {
      "cell_type": "markdown",
      "metadata": {
        "id": "view-in-github",
        "colab_type": "text"
      },
      "source": [
        "<a href=\"https://colab.research.google.com/github/JulioCezar1111/Projeto21/blob/main/Regressao_softmax_e_regressao_logistica_multinomial.ipynb\" target=\"_parent\"><img src=\"https://colab.research.google.com/assets/colab-badge.svg\" alt=\"Open In Colab\"/></a>"
      ]
    },
    {
      "cell_type": "markdown",
      "source": [
        "**RECEITA DE TREINAMENTO**\n",
        "* 1 - DESIGN DO MODELO (INPUT, OUTPUT, FORWARD PASS)\n",
        "* 2 - DEFINIÇAO DA FUNÇÃO DE CUSTO E OTIMIZADOR\n",
        "* 3 - LOOP DE TREINAMENTO:\n",
        "    - FORWARD PASS: CALCULAR A PREDIÇÃO E O CUSTO\n",
        "    - BACKWARPASS: CALCULAR OS GRADIENTES\n",
        "    - ATUALIZAR OS PESOS\n",
        "\n",
        "\n",
        "\n"
      ],
      "metadata": {
        "id": "39UX76Fopkpa"
      }
    },
    {
      "cell_type": "markdown",
      "source": [
        "# **Instalar Bibliotecas:**"
      ],
      "metadata": {
        "id": "fr68_02Kqn7Q"
      }
    },
    {
      "cell_type": "code",
      "execution_count": null,
      "metadata": {
        "id": "5yChv0mZr7q8"
      },
      "outputs": [],
      "source": [
        "import torch\n",
        "import torch.nn as nn\n",
        "import numpy as np\n",
        "import matplotlib.pyplot as plt"
      ]
    },
    {
      "cell_type": "markdown",
      "source": [
        "# **PREPARAÇÃO DOS DADOS**"
      ],
      "metadata": {
        "id": "n-92VHnsquwe"
      }
    },
    {
      "cell_type": "code",
      "source": [
        "# Datapoints (NOTAS)\n",
        "x_numpy = np.array([2,4,3,5,7,2,9,4,10,9,4,6,1,5,6,9,8,3, 1, 5, 6, 5,2, 7, 8, 2,5,9, 10,2,1,3,8,5,6,5])\n",
        "\n",
        "# 3 classes (0=reprovados, 1=recuperação, 2=aprovados) \n",
        "y_numpy = np.array([0,0,0,1,2,0,2,0,2,2,0,1,0,1,1,2,1,0,0,1,1,1,0,2,2,0,1,2,2,0,0,0,2,1,1,1])\n",
        "\n",
        "x = torch.from_numpy(x_numpy.astype(np.float32))\n",
        "y = torch.from_numpy(y_numpy.astype(np.float32))\n",
        "\n",
        "y = y.long()\n",
        "x = x.view(x.shape[0], 1)\n",
        "\n",
        "print(x.shape)\n",
        "print(y.shape)\n",
        "print(y)"
      ],
      "metadata": {
        "colab": {
          "base_uri": "https://localhost:8080/"
        },
        "id": "Z3tPgbivq36a",
        "outputId": "898773a3-fc7c-45e1-949a-ed16a7e994d7"
      },
      "execution_count": null,
      "outputs": [
        {
          "output_type": "stream",
          "name": "stdout",
          "text": [
            "torch.Size([36, 1])\n",
            "torch.Size([36])\n",
            "tensor([0, 0, 0, 1, 2, 0, 2, 0, 2, 2, 0, 1, 0, 1, 1, 2, 1, 0, 0, 1, 1, 1, 0, 2,\n",
            "        2, 0, 1, 2, 2, 0, 0, 0, 2, 1, 1, 1])\n"
          ]
        }
      ]
    },
    {
      "cell_type": "markdown",
      "source": [
        "# **CLASS DE REGRESSÃO LOGÍSTICA**"
      ],
      "metadata": {
        "id": "qdTOdibnsAeM"
      }
    },
    {
      "cell_type": "code",
      "source": [
        "class RegressaoSoftmax(nn.Module):\n",
        "  def __init__(self, n_input, n_output):\n",
        "    super(RegressaoSoftmax, self).__init__()\n",
        "    self.Linear = nn.Linear(n_input, n_output)\n",
        "\n",
        "  def forward(self, x):\n",
        "    return self.Linear(x)\n"
      ],
      "metadata": {
        "id": "8IW8Vt0qsEt8"
      },
      "execution_count": null,
      "outputs": []
    },
    {
      "cell_type": "markdown",
      "source": [
        "# **DEFINICIÇÃO DE MODELO**"
      ],
      "metadata": {
        "id": "z_ogqbO8saAW"
      }
    },
    {
      "cell_type": "code",
      "source": [
        "input_size = 1\n",
        "output_size = 3\n",
        "model = RegressaoSoftmax(input_size, output_size)"
      ],
      "metadata": {
        "id": "4uHeqhxWsbuA"
      },
      "execution_count": null,
      "outputs": []
    },
    {
      "cell_type": "markdown",
      "source": [
        "# **DEFINIÇÃO DA FUNÇAO DE CUSTO E OTIMIZADOR**"
      ],
      "metadata": {
        "id": "W6nHkvXNtd9I"
      }
    },
    {
      "cell_type": "code",
      "source": [
        "learning_rate = 0.05\n",
        "criterion = nn.CrossEntropyLoss() # funçao de custo\n",
        "optimizer = torch.optim.SGD(model.parameters(), lr=learning_rate)\n"
      ],
      "metadata": {
        "id": "S7Ddo3a-tiY2"
      },
      "execution_count": null,
      "outputs": []
    },
    {
      "cell_type": "markdown",
      "source": [
        "# **LOOP DE TREINAMENTO**\n",
        "\n"
      ],
      "metadata": {
        "id": "C1qVYjzMtxAJ"
      }
    },
    {
      "cell_type": "code",
      "source": [
        "# LOOP DE TREINAMENTO\n",
        "num_epochs = 1000\n",
        "contador_custo = []\n",
        "\n",
        "for epoch in range(num_epochs):\n",
        "\n",
        "  #forward pass and loos\n",
        "  y_hat = model(x)  # vai estar os logits\n",
        "  loss = criterion(y_hat, y)\n",
        "  contador_custo.append(loss.detach().numpy())\n",
        "  #print(y_hat)\n",
        "\n",
        "  #backward pass (calcular gradientes)\n",
        "  loss.backward()\n",
        "\n",
        "  #update (atualizar os pesos)\n",
        "  optimizer.step()\n",
        "\n",
        "     \n",
        "  #limpar o otimizador\n",
        "  optimizer.zero_grad()\n"
      ],
      "metadata": {
        "id": "0xkPyAW6t52d"
      },
      "execution_count": null,
      "outputs": []
    },
    {
      "cell_type": "markdown",
      "source": [
        "# **PLOTANDO O GRÁFICO DA FUNÇÃO DE CUSTO**\n"
      ],
      "metadata": {
        "id": "2pLi6LpIupxz"
      }
    },
    {
      "cell_type": "code",
      "source": [
        "print(\"GRÁFICO DA FUNÇÃO DE CUSTO\")\n",
        "plt.plot(contador_custo, 'b')\n",
        "plt.show()"
      ],
      "metadata": {
        "colab": {
          "base_uri": "https://localhost:8080/",
          "height": 282
        },
        "id": "8bt5c4Fru52x",
        "outputId": "b936680c-9516-430d-9b60-94f120288242"
      },
      "execution_count": null,
      "outputs": [
        {
          "output_type": "stream",
          "name": "stdout",
          "text": [
            "GRÁFICO DA FUNÇÃO DE CUSTO\n"
          ]
        },
        {
          "output_type": "display_data",
          "data": {
            "text/plain": [
              "<Figure size 432x288 with 1 Axes>"
            ],
            "image/png": "[encoded data removed]"
          },
          "metadata": {
            "needs_background": "light"
          }
        }
      ]
    },
    {
      "cell_type": "markdown",
      "source": [
        "# **Fazer predição de teste**"
      ],
      "metadata": {
        "id": "pGxgALGMvH5j"
      }
    },
    {
      "cell_type": "code",
      "source": [
        "teste = np.array([10, 3, 4.5, 2, 6, 10, 6.5, 6.9])\n",
        "t_teste = torch.from_numpy(teste.astype(np.float32))\n",
        "t_teste = t_teste.view(t_teste.shape[0], 1)\n",
        "\n",
        "with torch.no_grad(): # para não usar o gradiente\n",
        "  predicoes = model(t_teste)\n",
        "  print(np.argmax(predicoes, axis=1).flatten()) # Mostra qual class"
      ],
      "metadata": {
        "colab": {
          "base_uri": "https://localhost:8080/"
        },
        "id": "xdAUgKbfvNH2",
        "outputId": "fcaccd68-f3d5-4312-a7f4-cdcaa149efb2"
      },
      "execution_count": null,
      "outputs": [
        {
          "output_type": "stream",
          "name": "stdout",
          "text": [
            "tensor([2, 0, 1, 0, 1, 2, 1, 2])\n"
          ]
        }
      ]
    }
  ]
}